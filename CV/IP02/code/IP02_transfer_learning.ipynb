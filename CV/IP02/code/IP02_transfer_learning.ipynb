{
  "nbformat": 4,
  "nbformat_minor": 0,
  "metadata": {
    "colab": {
      "name": "IP02 transfer learning.ipynb",
      "provenance": [],
      "collapsed_sections": []
    },
    "kernelspec": {
      "name": "python3",
      "display_name": "Python 3"
    },
    "language_info": {
      "name": "python"
    },
    "accelerator": "GPU"
  },
  "cells": [
    {
      "cell_type": "code",
      "execution_count": 1,
      "metadata": {
        "id": "0tp5V5GEk__4"
      },
      "outputs": [],
      "source": [
        "# !unrar x \"/content/drive/MyDrive/Colab Notebooks/Dataset/IP02/classification/train2.rar\" \"/content/drive/MyDrive/Colab Notebooks/Dataset/IP02/classification/train/\""
      ]
    },
    {
      "cell_type": "code",
      "source": [
        "# while True:\n",
        "#   pass"
      ],
      "metadata": {
        "id": "0ZyiQ6A4m3eZ"
      },
      "execution_count": 2,
      "outputs": []
    },
    {
      "cell_type": "code",
      "source": [
        "import os\n",
        "import tensorflow as tf\n",
        "from tensorflow import keras\n",
        "from keras.models import Model\n",
        "from tensorflow.keras.optimizers import Adam\n",
        "from keras.applications.mobilenet import MobileNet ,preprocess_input\n",
        "from keras.preprocessing.image import ImageDataGenerator\n",
        "from keras.callbacks import ModelCheckpoint, EarlyStopping\n",
        "from keras.layers import Dense, Dropout, Flatten\n",
        "from pathlib import Path\n",
        "import numpy as np\n",
        "from keras.models import Sequential\n",
        "from keras.layers import Dense ,Flatten ,Conv2D ,MaxPooling2D ,Dropout ,BatchNormalization\n",
        "from tensorflow.keras.applications.resnet50 import ResNet50\n",
        "from tensorflow.keras.preprocessing import image\n",
        "from tensorflow.keras.applications.resnet50 import preprocess_input, decode_predictions\n",
        "import os\n",
        "import shutil\n",
        "import cv2 as cv\n",
        "from keras.callbacks import EarlyStopping ,ReduceLROnPlateau , ModelCheckpoint"
      ],
      "metadata": {
        "id": "r96BVS9-qIPQ"
      },
      "execution_count": 3,
      "outputs": []
    },
    {
      "cell_type": "code",
      "source": [
        "train_data_dir = \"/content/drive/MyDrive/Colab Notebooks/Dataset/IP02/classification/train\"\n",
        "No_of_files = len(os.listdir(train_data_dir))\n",
        "print(No_of_files)"
      ],
      "metadata": {
        "id": "QUHIKBMLr5qe",
        "colab": {
          "base_uri": "https://localhost:8080/"
        },
        "outputId": "45fd2dbd-41b8-4c9e-d14f-2a0ba3668521"
      },
      "execution_count": 4,
      "outputs": [
        {
          "output_type": "stream",
          "name": "stdout",
          "text": [
            "102\n"
          ]
        }
      ]
    },
    {
      "cell_type": "code",
      "source": [
        "# from google.colab.patches import cv2_imshow\n",
        "# path = '/content/drive/MyDrive/Colab Notebooks/Dataset/IP04/JPEGImages/IP001000262.jpg'\n",
        "# img = cv.imread(path)\n",
        "# cv2_imshow(img)"
      ],
      "metadata": {
        "id": "AIBAO1IX3uoQ"
      },
      "execution_count": 5,
      "outputs": []
    },
    {
      "cell_type": "markdown",
      "source": [
        "##Gobal Constant"
      ],
      "metadata": {
        "id": "4hNRTj-LBgYX"
      }
    },
    {
      "cell_type": "markdown",
      "source": [
        "##Model Define"
      ],
      "metadata": {
        "id": "MCyl6PKmBmp2"
      }
    },
    {
      "cell_type": "code",
      "source": [
        "train_dir = '/content/drive/MyDrive/Colab Notebooks/Dataset/IP02/classification/train'\n",
        "val_dir = '/content/drive/MyDrive/Colab Notebooks/Dataset/IP02/classification/val'\n",
        "test_dir = '/content/drive/MyDrive/Colab Notebooks/Dataset/IP02/classification/test'\n",
        "IMG_SIZE = (224,224)\n",
        "\n",
        "training=tf.keras.preprocessing.image.ImageDataGenerator(\n",
        "    zca_epsilon=1e-06,\n",
        "    rotation_range=30,\n",
        "    width_shift_range=0.1,\n",
        "    height_shift_range=0.1,\n",
        "    shear_range=0.1,\n",
        "    zoom_range=0.1,\n",
        "    fill_mode=\"nearest\",\n",
        "    horizontal_flip=True,\n",
        "    vertical_flip=True,\n",
        "    preprocessing_function=preprocess_input,\n",
        "    validation_split=0.05\n",
        ").flow_from_directory(train_dir,batch_size=32,target_size=(256,256),subset=\"training\")\n",
        "\n",
        "validing=tf.keras.preprocessing.image.ImageDataGenerator(\n",
        "    rotation_range=30,\n",
        "    width_shift_range=0.1,\n",
        "    height_shift_range=0.1,\n",
        "    shear_range=0.1,\n",
        "    zoom_range=0.1,\n",
        "    fill_mode=\"nearest\",\n",
        "    horizontal_flip=True,\n",
        "    vertical_flip=True,\n",
        "    preprocessing_function=preprocess_input,\n",
        "    validation_split=0.05\n",
        ").flow_from_directory(train_dir,batch_size=16,target_size=(224,224),subset='validation',shuffle=True)\n",
        "\n",
        "testing=tf.keras.preprocessing.image.ImageDataGenerator(\n",
        "    preprocessing_function=preprocess_input,\n",
        ").flow_from_directory(test_dir,batch_size=16,target_size=(224,224),shuffle=True)"
      ],
      "metadata": {
        "colab": {
          "base_uri": "https://localhost:8080/"
        },
        "id": "UEdXeHkIGRO2",
        "outputId": "cb47e366-9fbb-4ef2-8570-d68ae1ce1419"
      },
      "execution_count": 6,
      "outputs": [
        {
          "output_type": "stream",
          "name": "stdout",
          "text": [
            "Found 42888 images belonging to 102 classes.\n",
            "Found 2207 images belonging to 102 classes.\n",
            "Found 22619 images belonging to 102 classes.\n"
          ]
        }
      ]
    },
    {
      "cell_type": "markdown",
      "source": [
        "## Train Model"
      ],
      "metadata": {
        "id": "g4yATOLBMkSQ"
      }
    },
    {
      "cell_type": "code",
      "source": [
        "pretrain_model=keras.applications.ResNet50(include_top=False,weights='imagenet',input_shape=(256,256,3))"
      ],
      "metadata": {
        "id": "r9G-N8bNQFXZ",
        "colab": {
          "base_uri": "https://localhost:8080/"
        },
        "outputId": "391df98e-a840-4260-ed97-53a6690bda5f"
      },
      "execution_count": 7,
      "outputs": [
        {
          "output_type": "stream",
          "name": "stdout",
          "text": [
            "Downloading data from https://storage.googleapis.com/tensorflow/keras-applications/resnet/resnet50_weights_tf_dim_ordering_tf_kernels_notop.h5\n",
            "94773248/94765736 [==============================] - 0s 0us/step\n",
            "94781440/94765736 [==============================] - 0s 0us/step\n"
          ]
        }
      ]
    },
    {
      "cell_type": "code",
      "source": [
        "optimizer=Adam(learning_rate=0.01,beta_1=0.9,beta_2=0.99)"
      ],
      "metadata": {
        "id": "D4XWvg9tQIbq"
      },
      "execution_count": 8,
      "outputs": []
    },
    {
      "cell_type": "code",
      "source": [
        "EarlyStop=EarlyStopping(patience=10,restore_best_weights=True)\n",
        "Reduce_LR=ReduceLROnPlateau(monitor='val_accuracy',verbose=2,factor=0.5,min_lr=0.00001)\n",
        "# callback=[EarlyStop , Reduce_LR]\n",
        "model_check=ModelCheckpoint(filepath='/content/model_resnet.hdf5',monitor='val_loss',verbose=1,save_best_only=True, mode='auto')\n",
        "callback=[EarlyStop , Reduce_LR, model_check]"
      ],
      "metadata": {
        "id": "qI0NUGEJJfyQ"
      },
      "execution_count": 9,
      "outputs": []
    },
    {
      "cell_type": "code",
      "source": [
        "pretrain_model.trainable=False"
      ],
      "metadata": {
        "id": "u0XNvh-YhqgI"
      },
      "execution_count": 10,
      "outputs": []
    },
    {
      "cell_type": "code",
      "source": [
        "model=Sequential([\n",
        "    pretrain_model,\n",
        "    MaxPooling2D(3,2),\n",
        "    Flatten(),\n",
        "    Dense(128,activation='relu'),\n",
        "    BatchNormalization(),\n",
        "    Dense(1024,activation='relu'),\n",
        "    BatchNormalization(),\n",
        "    Dense(512,activation='relu'),\n",
        "    BatchNormalization(),\n",
        "    Dense(102,activation='softmax')\n",
        "])"
      ],
      "metadata": {
        "id": "5c4Go0bvQRjo"
      },
      "execution_count": 11,
      "outputs": []
    },
    {
      "cell_type": "code",
      "source": [
        "model.summary()"
      ],
      "metadata": {
        "colab": {
          "base_uri": "https://localhost:8080/"
        },
        "id": "AIY1NMi3Qi8r",
        "outputId": "23cef7bc-c193-43d3-d359-38919c78ca23"
      },
      "execution_count": 12,
      "outputs": [
        {
          "output_type": "stream",
          "name": "stdout",
          "text": [
            "Model: \"sequential\"\n",
            "_________________________________________________________________\n",
            " Layer (type)                Output Shape              Param #   \n",
            "=================================================================\n",
            " resnet50 (Functional)       (None, 8, 8, 2048)        23587712  \n",
            "                                                                 \n",
            " max_pooling2d (MaxPooling2D  (None, 3, 3, 2048)       0         \n",
            " )                                                               \n",
            "                                                                 \n",
            " flatten (Flatten)           (None, 18432)             0         \n",
            "                                                                 \n",
            " dense (Dense)               (None, 128)               2359424   \n",
            "                                                                 \n",
            " batch_normalization (BatchN  (None, 128)              512       \n",
            " ormalization)                                                   \n",
            "                                                                 \n",
            " dense_1 (Dense)             (None, 1024)              132096    \n",
            "                                                                 \n",
            " batch_normalization_1 (Batc  (None, 1024)             4096      \n",
            " hNormalization)                                                 \n",
            "                                                                 \n",
            " dense_2 (Dense)             (None, 512)               524800    \n",
            "                                                                 \n",
            " batch_normalization_2 (Batc  (None, 512)              2048      \n",
            " hNormalization)                                                 \n",
            "                                                                 \n",
            " dense_3 (Dense)             (None, 102)               52326     \n",
            "                                                                 \n",
            "=================================================================\n",
            "Total params: 26,663,014\n",
            "Trainable params: 3,071,974\n",
            "Non-trainable params: 23,591,040\n",
            "_________________________________________________________________\n"
          ]
        }
      ]
    },
    {
      "cell_type": "code",
      "source": [
        "model.compile(optimizer=optimizer,loss='categorical_crossentropy', metrics=[\"accuracy\"])"
      ],
      "metadata": {
        "id": "wiPpE3Q4Qk7o"
      },
      "execution_count": 13,
      "outputs": []
    },
    {
      "cell_type": "code",
      "source": [
        "history=model.fit(training,validation_data=validing,epochs=50,batch_size=32,\n",
        "                  steps_per_epoch=len(training) // 32 ,validation_steps=len(validing) // 16,\n",
        "                  callbacks=callback, verbose=1)"
      ],
      "metadata": {
        "colab": {
          "base_uri": "https://localhost:8080/"
        },
        "id": "l9Srq6aSM1DA",
        "outputId": "a75c6587-2d5b-4b9d-e344-d5e3b6d447b8"
      },
      "execution_count": 14,
      "outputs": [
        {
          "output_type": "stream",
          "name": "stdout",
          "text": [
            "Epoch 1/50\n",
            "41/41 [==============================] - ETA: 0s - loss: 5.2822 - accuracy: 0.1113\n",
            "Epoch 00001: val_loss improved from inf to 38.16346, saving model to /content/model_resnet.hdf5\n"
          ]
        },
        {
          "output_type": "stream",
          "name": "stderr",
          "text": [
            "/usr/local/lib/python3.7/dist-packages/keras/engine/functional.py:1410: CustomMaskWarning: Custom mask layers require a config and must override get_config. When loading, the custom mask layer must be passed to the custom_objects argument.\n",
            "  layer_config = serialize_layer_fn(layer)\n"
          ]
        },
        {
          "output_type": "stream",
          "name": "stdout",
          "text": [
            "\b\b\b\b\b\b\b\b\b\b\b\b\b\b\b\b\b\b\b\b\b\b\b\b\b\b\b\b\b\b\b\b\b\b\b\b\b\b\b\b\b\b\b\b\b\b\b\b\b\b\b\b\b\b\b\b\b\b\b\b\b\b\b\b\b\b\b\b\b\b\b\b\b\b\b\b\b\b\b\b\b\b\r41/41 [==============================] - 341s 8s/step - loss: 5.2822 - accuracy: 0.1113 - val_loss: 38.1635 - val_accuracy: 0.0078 - lr: 0.0100\n",
            "Epoch 2/50\n",
            "41/41 [==============================] - ETA: 0s - loss: 4.0354 - accuracy: 0.2020\n",
            "Epoch 00002: val_loss improved from 38.16346 to 6.41654, saving model to /content/model_resnet.hdf5\n",
            "41/41 [==============================] - 317s 8s/step - loss: 4.0354 - accuracy: 0.2020 - val_loss: 6.4165 - val_accuracy: 0.1484 - lr: 0.0100\n",
            "Epoch 3/50\n",
            "41/41 [==============================] - ETA: 0s - loss: 3.7062 - accuracy: 0.2142\n",
            "Epoch 00003: val_loss improved from 6.41654 to 4.58001, saving model to /content/model_resnet.hdf5\n",
            "41/41 [==============================] - 313s 8s/step - loss: 3.7062 - accuracy: 0.2142 - val_loss: 4.5800 - val_accuracy: 0.2031 - lr: 0.0100\n",
            "Epoch 4/50\n",
            "41/41 [==============================] - ETA: 0s - loss: 3.3833 - accuracy: 0.2508\n",
            "Epoch 00004: val_loss improved from 4.58001 to 3.55276, saving model to /content/model_resnet.hdf5\n",
            "41/41 [==============================] - 304s 7s/step - loss: 3.3833 - accuracy: 0.2508 - val_loss: 3.5528 - val_accuracy: 0.2500 - lr: 0.0100\n",
            "Epoch 5/50\n",
            "41/41 [==============================] - ETA: 0s - loss: 3.2255 - accuracy: 0.2546\n",
            "Epoch 00005: val_loss did not improve from 3.55276\n",
            "41/41 [==============================] - 286s 7s/step - loss: 3.2255 - accuracy: 0.2546 - val_loss: 3.9679 - val_accuracy: 0.1719 - lr: 0.0100\n",
            "Epoch 6/50\n",
            "41/41 [==============================] - ETA: 0s - loss: 2.9725 - accuracy: 0.2889\n",
            "Epoch 00006: val_loss improved from 3.55276 to 3.52128, saving model to /content/model_resnet.hdf5\n",
            "41/41 [==============================] - 281s 7s/step - loss: 2.9725 - accuracy: 0.2889 - val_loss: 3.5213 - val_accuracy: 0.2266 - lr: 0.0100\n",
            "Epoch 7/50\n",
            "41/41 [==============================] - ETA: 0s - loss: 3.0066 - accuracy: 0.3049\n",
            "Epoch 00007: val_loss improved from 3.52128 to 3.11882, saving model to /content/model_resnet.hdf5\n",
            "41/41 [==============================] - 281s 7s/step - loss: 3.0066 - accuracy: 0.3049 - val_loss: 3.1188 - val_accuracy: 0.2969 - lr: 0.0100\n",
            "Epoch 8/50\n",
            "41/41 [==============================] - ETA: 0s - loss: 2.8342 - accuracy: 0.3262\n",
            "Epoch 00008: val_loss did not improve from 3.11882\n",
            "41/41 [==============================] - 269s 7s/step - loss: 2.8342 - accuracy: 0.3262 - val_loss: 3.5361 - val_accuracy: 0.2734 - lr: 0.0100\n",
            "Epoch 9/50\n",
            "41/41 [==============================] - ETA: 0s - loss: 2.6550 - accuracy: 0.3300\n",
            "Epoch 00009: val_loss improved from 3.11882 to 2.96817, saving model to /content/model_resnet.hdf5\n",
            "41/41 [==============================] - 246s 6s/step - loss: 2.6550 - accuracy: 0.3300 - val_loss: 2.9682 - val_accuracy: 0.3047 - lr: 0.0100\n",
            "Epoch 10/50\n",
            "41/41 [==============================] - ETA: 0s - loss: 2.7521 - accuracy: 0.3247\n",
            "Epoch 00010: val_loss did not improve from 2.96817\n",
            "41/41 [==============================] - 239s 6s/step - loss: 2.7521 - accuracy: 0.3247 - val_loss: 3.1875 - val_accuracy: 0.2891 - lr: 0.0100\n",
            "Epoch 11/50\n",
            "41/41 [==============================] - ETA: 0s - loss: 2.6253 - accuracy: 0.3567\n",
            "Epoch 00011: val_loss improved from 2.96817 to 2.68977, saving model to /content/model_resnet.hdf5\n",
            "41/41 [==============================] - 230s 6s/step - loss: 2.6253 - accuracy: 0.3567 - val_loss: 2.6898 - val_accuracy: 0.3750 - lr: 0.0100\n",
            "Epoch 12/50\n",
            "41/41 [==============================] - ETA: 0s - loss: 2.6504 - accuracy: 0.3415\n",
            "Epoch 00012: val_loss did not improve from 2.68977\n",
            "41/41 [==============================] - 230s 6s/step - loss: 2.6504 - accuracy: 0.3415 - val_loss: 2.8411 - val_accuracy: 0.3438 - lr: 0.0100\n",
            "Epoch 13/50\n",
            "41/41 [==============================] - ETA: 0s - loss: 2.5782 - accuracy: 0.3613\n",
            "Epoch 00013: val_loss did not improve from 2.68977\n",
            "41/41 [==============================] - 227s 6s/step - loss: 2.5782 - accuracy: 0.3613 - val_loss: 3.0552 - val_accuracy: 0.3672 - lr: 0.0100\n",
            "Epoch 14/50\n",
            "41/41 [==============================] - ETA: 0s - loss: 2.6121 - accuracy: 0.3460\n",
            "Epoch 00014: val_loss did not improve from 2.68977\n",
            "41/41 [==============================] - 218s 5s/step - loss: 2.6121 - accuracy: 0.3460 - val_loss: 3.0257 - val_accuracy: 0.3438 - lr: 0.0100\n",
            "Epoch 15/50\n",
            "41/41 [==============================] - ETA: 0s - loss: 2.5240 - accuracy: 0.3697\n",
            "Epoch 00015: val_loss did not improve from 2.68977\n",
            "41/41 [==============================] - 214s 5s/step - loss: 2.5240 - accuracy: 0.3697 - val_loss: 3.2632 - val_accuracy: 0.2578 - lr: 0.0100\n",
            "Epoch 16/50\n",
            "41/41 [==============================] - ETA: 0s - loss: 2.4732 - accuracy: 0.3727\n",
            "Epoch 00016: val_loss did not improve from 2.68977\n",
            "41/41 [==============================] - 202s 5s/step - loss: 2.4732 - accuracy: 0.3727 - val_loss: 3.0902 - val_accuracy: 0.2969 - lr: 0.0100\n",
            "Epoch 17/50\n",
            "41/41 [==============================] - ETA: 0s - loss: 2.4927 - accuracy: 0.3742\n",
            "Epoch 00017: val_loss did not improve from 2.68977\n",
            "41/41 [==============================] - 197s 5s/step - loss: 2.4927 - accuracy: 0.3742 - val_loss: 2.7183 - val_accuracy: 0.3359 - lr: 0.0100\n",
            "Epoch 18/50\n",
            "41/41 [==============================] - ETA: 0s - loss: 2.4763 - accuracy: 0.3880\n",
            "Epoch 00018: val_loss did not improve from 2.68977\n",
            "41/41 [==============================] - 193s 5s/step - loss: 2.4763 - accuracy: 0.3880 - val_loss: 3.3268 - val_accuracy: 0.2578 - lr: 0.0100\n",
            "Epoch 19/50\n",
            "41/41 [==============================] - ETA: 0s - loss: 2.4762 - accuracy: 0.3834\n",
            "Epoch 00019: val_loss improved from 2.68977 to 2.56945, saving model to /content/model_resnet.hdf5\n",
            "41/41 [==============================] - 180s 4s/step - loss: 2.4762 - accuracy: 0.3834 - val_loss: 2.5694 - val_accuracy: 0.3438 - lr: 0.0100\n",
            "Epoch 20/50\n",
            "41/41 [==============================] - ETA: 0s - loss: 2.3770 - accuracy: 0.4139\n",
            "Epoch 00020: val_loss improved from 2.56945 to 2.54862, saving model to /content/model_resnet.hdf5\n",
            "41/41 [==============================] - 184s 4s/step - loss: 2.3770 - accuracy: 0.4139 - val_loss: 2.5486 - val_accuracy: 0.4609 - lr: 0.0100\n",
            "Epoch 21/50\n",
            "41/41 [==============================] - ETA: 0s - loss: 2.4163 - accuracy: 0.3826\n",
            "Epoch 00021: val_loss did not improve from 2.54862\n",
            "41/41 [==============================] - 183s 4s/step - loss: 2.4163 - accuracy: 0.3826 - val_loss: 3.1492 - val_accuracy: 0.3906 - lr: 0.0100\n",
            "Epoch 22/50\n",
            "41/41 [==============================] - ETA: 0s - loss: 2.4138 - accuracy: 0.3887\n",
            "Epoch 00022: val_loss improved from 2.54862 to 2.52920, saving model to /content/model_resnet.hdf5\n",
            "41/41 [==============================] - 177s 4s/step - loss: 2.4138 - accuracy: 0.3887 - val_loss: 2.5292 - val_accuracy: 0.3828 - lr: 0.0100\n",
            "Epoch 23/50\n",
            "41/41 [==============================] - ETA: 0s - loss: 2.4620 - accuracy: 0.3727\n",
            "Epoch 00023: val_loss did not improve from 2.52920\n",
            "41/41 [==============================] - 180s 4s/step - loss: 2.4620 - accuracy: 0.3727 - val_loss: 2.6345 - val_accuracy: 0.3906 - lr: 0.0100\n",
            "Epoch 24/50\n",
            "41/41 [==============================] - ETA: 0s - loss: 2.3398 - accuracy: 0.4078\n",
            "Epoch 00024: val_loss did not improve from 2.52920\n",
            "41/41 [==============================] - 160s 4s/step - loss: 2.3398 - accuracy: 0.4078 - val_loss: 2.5997 - val_accuracy: 0.4141 - lr: 0.0100\n",
            "Epoch 25/50\n",
            "41/41 [==============================] - ETA: 0s - loss: 2.3375 - accuracy: 0.4108\n",
            "Epoch 00025: val_loss improved from 2.52920 to 2.52872, saving model to /content/model_resnet.hdf5\n",
            "41/41 [==============================] - 159s 4s/step - loss: 2.3375 - accuracy: 0.4108 - val_loss: 2.5287 - val_accuracy: 0.4141 - lr: 0.0100\n",
            "Epoch 26/50\n",
            "41/41 [==============================] - ETA: 0s - loss: 2.2704 - accuracy: 0.4108\n",
            "Epoch 00026: val_loss did not improve from 2.52872\n",
            "41/41 [==============================] - 149s 4s/step - loss: 2.2704 - accuracy: 0.4108 - val_loss: 2.7087 - val_accuracy: 0.3281 - lr: 0.0100\n",
            "Epoch 27/50\n",
            "41/41 [==============================] - ETA: 0s - loss: 2.2574 - accuracy: 0.4108\n",
            "Epoch 00027: val_loss did not improve from 2.52872\n",
            "41/41 [==============================] - 153s 4s/step - loss: 2.2574 - accuracy: 0.4108 - val_loss: 2.6141 - val_accuracy: 0.4375 - lr: 0.0100\n",
            "Epoch 28/50\n",
            "41/41 [==============================] - ETA: 0s - loss: 2.2791 - accuracy: 0.4169\n",
            "Epoch 00028: val_loss improved from 2.52872 to 2.44167, saving model to /content/model_resnet.hdf5\n",
            "41/41 [==============================] - 150s 4s/step - loss: 2.2791 - accuracy: 0.4169 - val_loss: 2.4417 - val_accuracy: 0.4219 - lr: 0.0100\n",
            "Epoch 29/50\n",
            "41/41 [==============================] - ETA: 0s - loss: 2.2876 - accuracy: 0.4268\n",
            "Epoch 00029: val_loss did not improve from 2.44167\n",
            "41/41 [==============================] - 151s 4s/step - loss: 2.2876 - accuracy: 0.4268 - val_loss: 2.6102 - val_accuracy: 0.3828 - lr: 0.0100\n",
            "Epoch 30/50\n",
            "41/41 [==============================] - ETA: 0s - loss: 2.2493 - accuracy: 0.4268\n",
            "Epoch 00030: ReduceLROnPlateau reducing learning rate to 0.004999999888241291.\n",
            "\n",
            "Epoch 00030: val_loss did not improve from 2.44167\n",
            "41/41 [==============================] - 148s 4s/step - loss: 2.2493 - accuracy: 0.4268 - val_loss: 2.8715 - val_accuracy: 0.3203 - lr: 0.0100\n",
            "Epoch 31/50\n",
            "41/41 [==============================] - ETA: 0s - loss: 2.1114 - accuracy: 0.4405\n",
            "Epoch 00031: val_loss improved from 2.44167 to 2.38869, saving model to /content/model_resnet.hdf5\n",
            "41/41 [==============================] - 140s 3s/step - loss: 2.1114 - accuracy: 0.4405 - val_loss: 2.3887 - val_accuracy: 0.4297 - lr: 0.0050\n",
            "Epoch 32/50\n",
            "41/41 [==============================] - ETA: 0s - loss: 2.1557 - accuracy: 0.4611\n",
            "Epoch 00032: val_loss improved from 2.38869 to 2.07425, saving model to /content/model_resnet.hdf5\n",
            "41/41 [==============================] - 130s 3s/step - loss: 2.1557 - accuracy: 0.4611 - val_loss: 2.0743 - val_accuracy: 0.4062 - lr: 0.0050\n",
            "Epoch 33/50\n",
            "41/41 [==============================] - ETA: 0s - loss: 2.0934 - accuracy: 0.4444\n",
            "Epoch 00033: val_loss did not improve from 2.07425\n",
            "41/41 [==============================] - 133s 3s/step - loss: 2.0934 - accuracy: 0.4444 - val_loss: 2.1176 - val_accuracy: 0.4922 - lr: 0.0050\n",
            "Epoch 34/50\n",
            "41/41 [==============================] - ETA: 0s - loss: 2.0559 - accuracy: 0.4703\n",
            "Epoch 00034: val_loss did not improve from 2.07425\n",
            "41/41 [==============================] - 128s 3s/step - loss: 2.0559 - accuracy: 0.4703 - val_loss: 3.3000 - val_accuracy: 0.4141 - lr: 0.0050\n",
            "Epoch 35/50\n",
            "41/41 [==============================] - ETA: 0s - loss: 2.0428 - accuracy: 0.4558\n",
            "Epoch 00035: val_loss did not improve from 2.07425\n",
            "41/41 [==============================] - 127s 3s/step - loss: 2.0428 - accuracy: 0.4558 - val_loss: 2.1315 - val_accuracy: 0.4297 - lr: 0.0050\n",
            "Epoch 36/50\n",
            "41/41 [==============================] - ETA: 0s - loss: 2.1596 - accuracy: 0.4581\n",
            "Epoch 00036: val_loss improved from 2.07425 to 1.96864, saving model to /content/model_resnet.hdf5\n",
            "41/41 [==============================] - 125s 3s/step - loss: 2.1596 - accuracy: 0.4581 - val_loss: 1.9686 - val_accuracy: 0.4609 - lr: 0.0050\n",
            "Epoch 37/50\n",
            "41/41 [==============================] - ETA: 0s - loss: 2.0716 - accuracy: 0.4588\n",
            "Epoch 00037: val_loss did not improve from 1.96864\n",
            "41/41 [==============================] - 119s 3s/step - loss: 2.0716 - accuracy: 0.4588 - val_loss: 2.3360 - val_accuracy: 0.3984 - lr: 0.0050\n",
            "Epoch 38/50\n",
            "41/41 [==============================] - ETA: 0s - loss: 2.1293 - accuracy: 0.4398\n",
            "Epoch 00038: val_loss did not improve from 1.96864\n",
            "41/41 [==============================] - 116s 3s/step - loss: 2.1293 - accuracy: 0.4398 - val_loss: 1.9740 - val_accuracy: 0.5000 - lr: 0.0050\n",
            "Epoch 39/50\n",
            "41/41 [==============================] - ETA: 0s - loss: 2.0639 - accuracy: 0.4535\n",
            "Epoch 00039: val_loss did not improve from 1.96864\n",
            "41/41 [==============================] - 111s 3s/step - loss: 2.0639 - accuracy: 0.4535 - val_loss: 2.3279 - val_accuracy: 0.4062 - lr: 0.0050\n",
            "Epoch 40/50\n",
            "41/41 [==============================] - ETA: 0s - loss: 2.0648 - accuracy: 0.4771\n",
            "Epoch 00040: val_loss did not improve from 1.96864\n",
            "41/41 [==============================] - 105s 3s/step - loss: 2.0648 - accuracy: 0.4771 - val_loss: 2.4937 - val_accuracy: 0.3750 - lr: 0.0050\n",
            "Epoch 41/50\n",
            "41/41 [==============================] - ETA: 0s - loss: 2.0622 - accuracy: 0.4489\n",
            "Epoch 00041: val_loss did not improve from 1.96864\n",
            "41/41 [==============================] - 108s 3s/step - loss: 2.0622 - accuracy: 0.4489 - val_loss: 2.0321 - val_accuracy: 0.4453 - lr: 0.0050\n",
            "Epoch 42/50\n",
            "41/41 [==============================] - ETA: 0s - loss: 2.0533 - accuracy: 0.4611\n",
            "Epoch 00042: val_loss did not improve from 1.96864\n",
            "41/41 [==============================] - 114s 3s/step - loss: 2.0533 - accuracy: 0.4611 - val_loss: 2.2883 - val_accuracy: 0.4219 - lr: 0.0050\n",
            "Epoch 43/50\n",
            "41/41 [==============================] - ETA: 0s - loss: 1.9573 - accuracy: 0.4733\n",
            "Epoch 00043: val_loss did not improve from 1.96864\n",
            "41/41 [==============================] - 106s 3s/step - loss: 1.9573 - accuracy: 0.4733 - val_loss: 2.3558 - val_accuracy: 0.4219 - lr: 0.0050\n",
            "Epoch 44/50\n",
            "41/41 [==============================] - ETA: 0s - loss: 1.9951 - accuracy: 0.4832\n",
            "Epoch 00044: val_loss did not improve from 1.96864\n",
            "41/41 [==============================] - 99s 2s/step - loss: 1.9951 - accuracy: 0.4832 - val_loss: 2.0965 - val_accuracy: 0.5391 - lr: 0.0050\n",
            "Epoch 45/50\n",
            "41/41 [==============================] - ETA: 0s - loss: 1.9819 - accuracy: 0.4802\n",
            "Epoch 00045: val_loss did not improve from 1.96864\n",
            "41/41 [==============================] - 101s 2s/step - loss: 1.9819 - accuracy: 0.4802 - val_loss: 2.1529 - val_accuracy: 0.4766 - lr: 0.0050\n",
            "Epoch 46/50\n",
            "41/41 [==============================] - ETA: 0s - loss: 1.9731 - accuracy: 0.4798\n",
            "Epoch 00046: val_loss improved from 1.96864 to 1.92352, saving model to /content/model_resnet.hdf5\n",
            "41/41 [==============================] - 93s 2s/step - loss: 1.9731 - accuracy: 0.4798 - val_loss: 1.9235 - val_accuracy: 0.5234 - lr: 0.0050\n",
            "Epoch 47/50\n",
            "41/41 [==============================] - ETA: 0s - loss: 2.0696 - accuracy: 0.4505\n",
            "Epoch 00047: val_loss did not improve from 1.92352\n",
            "41/41 [==============================] - 95s 2s/step - loss: 2.0696 - accuracy: 0.4505 - val_loss: 2.2690 - val_accuracy: 0.4766 - lr: 0.0050\n",
            "Epoch 48/50\n",
            "41/41 [==============================] - ETA: 0s - loss: 1.9777 - accuracy: 0.4817\n",
            "Epoch 00048: val_loss did not improve from 1.92352\n",
            "41/41 [==============================] - 92s 2s/step - loss: 1.9777 - accuracy: 0.4817 - val_loss: 2.1230 - val_accuracy: 0.3984 - lr: 0.0050\n",
            "Epoch 49/50\n",
            "41/41 [==============================] - ETA: 0s - loss: 1.8695 - accuracy: 0.4954\n",
            "Epoch 00049: val_loss did not improve from 1.92352\n",
            "41/41 [==============================] - 96s 2s/step - loss: 1.8695 - accuracy: 0.4954 - val_loss: 2.4981 - val_accuracy: 0.3438 - lr: 0.0050\n",
            "Epoch 50/50\n",
            "41/41 [==============================] - ETA: 0s - loss: 1.9659 - accuracy: 0.4688\n",
            "Epoch 00050: val_loss improved from 1.92352 to 1.85101, saving model to /content/model_resnet.hdf5\n",
            "41/41 [==============================] - 90s 2s/step - loss: 1.9659 - accuracy: 0.4688 - val_loss: 1.8510 - val_accuracy: 0.5469 - lr: 0.0050\n"
          ]
        }
      ]
    },
    {
      "cell_type": "code",
      "source": [
        ""
      ],
      "metadata": {
        "id": "U_nW-2aMFxKq"
      },
      "execution_count": null,
      "outputs": []
    }
  ]
}