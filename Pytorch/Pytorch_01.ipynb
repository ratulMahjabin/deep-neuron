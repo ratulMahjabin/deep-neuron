{
  "nbformat": 4,
  "nbformat_minor": 0,
  "metadata": {
    "colab": {
      "name": "Pytorch 01.ipynb",
      "provenance": []
    },
    "kernelspec": {
      "name": "python3",
      "display_name": "Python 3"
    },
    "language_info": {
      "name": "python"
    }
  },
  "cells": [
    {
      "cell_type": "markdown",
      "source": [
        "## Import necessary module"
      ],
      "metadata": {
        "id": "ZO1i4EZHtuCZ"
      }
    },
    {
      "cell_type": "code",
      "execution_count": 5,
      "metadata": {
        "id": "TpFFvmoZtHZZ"
      },
      "outputs": [],
      "source": [
        "import torch.nn as nn\n",
        "import numpy as np\n",
        "import torch\n",
        "from torch.utils.data import TensorDataset\n",
        "from torch.utils.data import DataLoader"
      ]
    },
    {
      "cell_type": "markdown",
      "source": [
        "## Input and Target data"
      ],
      "metadata": {
        "id": "1gSNbsCuty72"
      }
    },
    {
      "cell_type": "code",
      "source": [
        "# Input (temp, rainfall, humidity)\n",
        "inputs = np.array([[73, 67, 43], \n",
        "                   [91, 88, 64], \n",
        "                   [87, 134, 58], \n",
        "                   [102, 43, 37], \n",
        "                   [69, 96, 70], \n",
        "                   [74, 66, 43], \n",
        "                   [91, 87, 65], \n",
        "                   [88, 134, 59], \n",
        "                   [101, 44, 37], \n",
        "                   [68, 96, 71], \n",
        "                   [73, 66, 44], \n",
        "                   [92, 87, 64], \n",
        "                   [87, 135, 57], \n",
        "                   [103, 43, 36], \n",
        "                   [68, 97, 70]], \n",
        "                  dtype='float32')\n",
        "\n",
        "# Targets (apples, oranges)\n",
        "targets = np.array([[56, 70], \n",
        "                    [81, 101], \n",
        "                    [119, 133], \n",
        "                    [22, 37], \n",
        "                    [103, 119],\n",
        "                    [57, 69], \n",
        "                    [80, 102], \n",
        "                    [118, 132], \n",
        "                    [21, 38], \n",
        "                    [104, 118], \n",
        "                    [57, 69], \n",
        "                    [82, 100], \n",
        "                    [118, 134], \n",
        "                    [20, 38], \n",
        "                    [102, 120]], \n",
        "                   dtype='float32')\n",
        "\n",
        "inputs = torch.from_numpy(inputs)\n",
        "targets = torch.from_numpy(targets)"
      ],
      "metadata": {
        "id": "lwjzLueLtQMW"
      },
      "execution_count": 4,
      "outputs": []
    },
    {
      "cell_type": "markdown",
      "source": [
        "## Dataset and Dataloader"
      ],
      "metadata": {
        "id": "OjnflI5Pt5U1"
      }
    },
    {
      "cell_type": "code",
      "source": [
        "train_ds = TensorDataset(inputs, targets)\n",
        "train_ds[0:3]"
      ],
      "metadata": {
        "colab": {
          "base_uri": "https://localhost:8080/"
        },
        "id": "dr-hl_vUtdlj",
        "outputId": "d8d7d512-97e0-4a53-e09f-87a94c6744ee"
      },
      "execution_count": 7,
      "outputs": [
        {
          "output_type": "execute_result",
          "data": {
            "text/plain": [
              "(tensor([[ 73.,  67.,  43.],\n",
              "         [ 91.,  88.,  64.],\n",
              "         [ 87., 134.,  58.]]), tensor([[ 56.,  70.],\n",
              "         [ 81., 101.],\n",
              "         [119., 133.]]))"
            ]
          },
          "metadata": {},
          "execution_count": 7
        }
      ]
    },
    {
      "cell_type": "code",
      "source": [
        "batch_size = 5\n",
        "train_dl = DataLoader(train_ds, batch_size, shuffle=True)"
      ],
      "metadata": {
        "id": "NN9lPlq-uH0W"
      },
      "execution_count": 8,
      "outputs": []
    },
    {
      "cell_type": "code",
      "source": [
        "for x,y in train_dl:\n",
        "  print(x)\n",
        "  print(y)"
      ],
      "metadata": {
        "id": "I8rHqtnQuUVk"
      },
      "execution_count": null,
      "outputs": []
    },
    {
      "cell_type": "markdown",
      "source": [
        "## Define Model"
      ],
      "metadata": {
        "id": "JDnxPKaCuiLg"
      }
    },
    {
      "cell_type": "code",
      "source": [
        "model = nn.Linear(3,2)"
      ],
      "metadata": {
        "id": "9tVAFJrKue44"
      },
      "execution_count": 10,
      "outputs": []
    },
    {
      "cell_type": "code",
      "source": [
        "print(model.weight)"
      ],
      "metadata": {
        "colab": {
          "base_uri": "https://localhost:8080/"
        },
        "id": "RqXJDuCturcK",
        "outputId": "7c1a0011-b13a-49f9-c0fc-200fc6d12c1c"
      },
      "execution_count": 11,
      "outputs": [
        {
          "output_type": "stream",
          "name": "stdout",
          "text": [
            "Parameter containing:\n",
            "tensor([[-0.4481,  0.0029, -0.3184],\n",
            "        [-0.2618,  0.1853,  0.3460]], requires_grad=True)\n"
          ]
        }
      ]
    },
    {
      "cell_type": "code",
      "source": [
        "print(model.bias)"
      ],
      "metadata": {
        "colab": {
          "base_uri": "https://localhost:8080/"
        },
        "id": "UkAWAWYyuxK6",
        "outputId": "b9622d39-9329-499f-d984-8d9131c4ad68"
      },
      "execution_count": 12,
      "outputs": [
        {
          "output_type": "stream",
          "name": "stdout",
          "text": [
            "Parameter containing:\n",
            "tensor([ 0.1893, -0.2404], requires_grad=True)\n"
          ]
        }
      ]
    },
    {
      "cell_type": "code",
      "source": [
        "list(model.parameters())"
      ],
      "metadata": {
        "colab": {
          "base_uri": "https://localhost:8080/"
        },
        "id": "tMRcDfuJuzes",
        "outputId": "2ad9c78e-80ad-481c-edb3-2c18185c662c"
      },
      "execution_count": 14,
      "outputs": [
        {
          "output_type": "execute_result",
          "data": {
            "text/plain": [
              "[Parameter containing:\n",
              " tensor([[-0.4481,  0.0029, -0.3184],\n",
              "         [-0.2618,  0.1853,  0.3460]], requires_grad=True),\n",
              " Parameter containing:\n",
              " tensor([ 0.1893, -0.2404], requires_grad=True)]"
            ]
          },
          "metadata": {},
          "execution_count": 14
        }
      ]
    },
    {
      "cell_type": "code",
      "source": [
        "preds = model(inputs)\n",
        "preds"
      ],
      "metadata": {
        "colab": {
          "base_uri": "https://localhost:8080/"
        },
        "id": "-HZvr2ATu2C6",
        "outputId": "68ae19a5-1262-48fc-b983-5a861c2bada0"
      },
      "execution_count": 15,
      "outputs": [
        {
          "output_type": "execute_result",
          "data": {
            "text/plain": [
              "tensor([[-46.0204,   7.9415],\n",
              "        [-60.7123,  14.3866],\n",
              "        [-56.8774,  21.8817],\n",
              "        [-57.1735,  -6.1742],\n",
              "        [-52.7418,  23.7048],\n",
              "        [-46.4714,   7.4944],\n",
              "        [-61.0336,  14.5473],\n",
              "        [-57.6439,  21.9659],\n",
              "        [-56.7226,  -5.7271],\n",
              "        [-52.6121,  24.3126],\n",
              "        [-46.3417,   8.1022],\n",
              "        [-61.1633,  13.9395],\n",
              "        [-56.5561,  21.7210],\n",
              "        [-57.3032,  -6.7820],\n",
              "        [-52.2909,  24.1519]], grad_fn=<AddmmBackward0>)"
            ]
          },
          "metadata": {},
          "execution_count": 15
        }
      ]
    },
    {
      "cell_type": "markdown",
      "source": [
        "## loss function"
      ],
      "metadata": {
        "id": "kWLuGFIIu-yR"
      }
    },
    {
      "cell_type": "code",
      "source": [
        "loss_fn = nn.functional.mse_loss"
      ],
      "metadata": {
        "id": "uSHiNJJwu89u"
      },
      "execution_count": 16,
      "outputs": []
    },
    {
      "cell_type": "code",
      "source": [
        "print(loss_fn(model(inputs), targets))"
      ],
      "metadata": {
        "colab": {
          "base_uri": "https://localhost:8080/"
        },
        "id": "mff0XJJivLWY",
        "outputId": "d5501314-4afb-42ea-e159-248cef3f9047"
      },
      "execution_count": 18,
      "outputs": [
        {
          "output_type": "stream",
          "name": "stdout",
          "text": [
            "tensor(12639.2295, grad_fn=<MseLossBackward0>)\n"
          ]
        }
      ]
    },
    {
      "cell_type": "markdown",
      "source": [
        "## Define optimizer"
      ],
      "metadata": {
        "id": "2vE2xt2svjXv"
      }
    },
    {
      "cell_type": "code",
      "source": [
        "opt = torch.optim.SGD(model.parameters(), lr=1e-5)"
      ],
      "metadata": {
        "id": "0VHc3NWIvTg2"
      },
      "execution_count": 19,
      "outputs": []
    },
    {
      "cell_type": "markdown",
      "source": [
        "## Train the model"
      ],
      "metadata": {
        "id": "PtE2nb2yvnCO"
      }
    },
    {
      "cell_type": "code",
      "source": [
        "def fit(num_epoch, model, loss_fn, opt, train_dl):\n",
        "  for epoch in range(num_epoch):\n",
        "    for x,y in train_dl:\n",
        "      pred = model(x)\n",
        "      loss = loss_fn(pred, y)\n",
        "      loss.backward()\n",
        "      opt.step()\n",
        "      opt.zero_grad()\n",
        "    if(epoch+1) % 10 == 0:\n",
        "      print('Epoch [{}/{}], Loss: {:.4f}'.format(epoch+1, num_epoch, loss.item()))"
      ],
      "metadata": {
        "id": "gk0sNDkCvhOM"
      },
      "execution_count": 23,
      "outputs": []
    },
    {
      "cell_type": "code",
      "source": [
        "fit(100, model, loss_fn, opt, train_dl)"
      ],
      "metadata": {
        "colab": {
          "base_uri": "https://localhost:8080/"
        },
        "id": "j_MrKI-qwY1m",
        "outputId": "ae493fce-52a2-459f-e744-30b72769ccb4"
      },
      "execution_count": 24,
      "outputs": [
        {
          "output_type": "stream",
          "name": "stdout",
          "text": [
            "Epoch [10/100], Loss: 111.4514\n",
            "Epoch [20/100], Loss: 46.3155\n",
            "Epoch [30/100], Loss: 80.3552\n",
            "Epoch [40/100], Loss: 4.3130\n",
            "Epoch [50/100], Loss: 26.9972\n",
            "Epoch [60/100], Loss: 19.7816\n",
            "Epoch [70/100], Loss: 25.1779\n",
            "Epoch [80/100], Loss: 22.9975\n",
            "Epoch [90/100], Loss: 4.1379\n",
            "Epoch [100/100], Loss: 26.3856\n"
          ]
        }
      ]
    },
    {
      "cell_type": "markdown",
      "source": [
        "## Predictions"
      ],
      "metadata": {
        "id": "HB_H_AwgwgIe"
      }
    },
    {
      "cell_type": "code",
      "source": [
        "preds = model(inputs)\n",
        "preds"
      ],
      "metadata": {
        "colab": {
          "base_uri": "https://localhost:8080/"
        },
        "id": "yG9u5M6twdIZ",
        "outputId": "60474bd0-2d17-4549-d2a5-5d779c9ef0f4"
      },
      "execution_count": 25,
      "outputs": [
        {
          "output_type": "execute_result",
          "data": {
            "text/plain": [
              "tensor([[ 58.0141,  71.0298],\n",
              "        [ 79.4576,  99.5492],\n",
              "        [122.3998, 134.0287],\n",
              "        [ 26.4302,  41.5275],\n",
              "        [ 94.1402, 114.5308],\n",
              "        [ 56.8198,  70.0148],\n",
              "        [ 78.7910,  99.4231],\n",
              "        [122.4369, 134.5355],\n",
              "        [ 27.6245,  42.5425],\n",
              "        [ 94.6678, 115.4197],\n",
              "        [ 57.3474,  70.9037],\n",
              "        [ 78.2633,  98.5342],\n",
              "        [123.0665, 134.1548],\n",
              "        [ 25.9026,  40.6386],\n",
              "        [ 95.3345, 115.5458]], grad_fn=<AddmmBackward0>)"
            ]
          },
          "metadata": {},
          "execution_count": 25
        }
      ]
    },
    {
      "cell_type": "code",
      "source": [
        "# compare with targets\n",
        "print(loss_fn(preds,targets))"
      ],
      "metadata": {
        "colab": {
          "base_uri": "https://localhost:8080/"
        },
        "id": "XXt_giOywkja",
        "outputId": "fa86de80-0574-4c81-a562-d98d250d38d7"
      },
      "execution_count": 27,
      "outputs": [
        {
          "output_type": "stream",
          "name": "stdout",
          "text": [
            "tensor(16.8659, grad_fn=<MseLossBackward0>)\n"
          ]
        }
      ]
    }
  ]
}